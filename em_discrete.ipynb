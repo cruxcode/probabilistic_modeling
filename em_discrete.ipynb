{
  "nbformat": 4,
  "nbformat_minor": 0,
  "metadata": {
    "colab": {
      "name": "em_discrete.ipynb",
      "version": "0.3.2",
      "provenance": [],
      "collapsed_sections": [],
      "include_colab_link": true
    },
    "language_info": {
      "codemirror_mode": {
        "name": "ipython",
        "version": 3
      },
      "file_extension": ".py",
      "mimetype": "text/x-python",
      "name": "python",
      "nbconvert_exporter": "python",
      "pygments_lexer": "ipython3",
      "version": "3.7.3"
    },
    "kernelspec": {
      "display_name": "Python 3",
      "language": "python",
      "name": "python3"
    }
  },
  "cells": [
    {
      "cell_type": "markdown",
      "metadata": {
        "id": "view-in-github",
        "colab_type": "text"
      },
      "source": [
        "<a href=\"https://colab.research.google.com/github/cruxcode/probabilistic_modeling/blob/master/em_discrete.ipynb\" target=\"_parent\"><img src=\"https://colab.research.google.com/assets/colab-badge.svg\" alt=\"Open In Colab\"/></a>"
      ]
    },
    {
      "cell_type": "code",
      "metadata": {
        "id": "Uq0UJ8-Dp2xd",
        "colab_type": "code",
        "colab": {}
      },
      "source": [
        "import numpy as np"
      ],
      "execution_count": 0,
      "outputs": []
    },
    {
      "cell_type": "code",
      "metadata": {
        "id": "znjkeLTnp2xt",
        "colab_type": "code",
        "colab": {}
      },
      "source": [
        "# prepare test data 1\n",
        "\n",
        "# Prepare K = 2 discrete distribution distribution\n",
        "K = 2 # number of components in mixture\n",
        "C = 10 # number of categories\n",
        "comp1, comp2 = np.array([0., 0., 0.1, 0.2, 0.3, 0.2, 0.1, 0.1, 0., 0.]), np.array([0.1, 0.1, 0.1, 0.1, 0.1, 0.1, 0.1, 0.1, 0.1, 0.1])\n",
        "pie1, pie2 = 0.3, 0.7\n",
        "dist1 = pie1*comp1 + pie2*comp2\n",
        "X1 = np.random.choice(np.arange(C), p=dist1, size=(10000, 1))"
      ],
      "execution_count": 0,
      "outputs": []
    },
    {
      "cell_type": "code",
      "metadata": {
        "id": "_TuRwO81-m8u",
        "colab_type": "code",
        "colab": {
          "base_uri": "https://localhost:8080/",
          "height": 35
        },
        "outputId": "e360498d-fd13-4cd8-9532-1d1025cee02f"
      },
      "source": [
        "dist1"
      ],
      "execution_count": 3,
      "outputs": [
        {
          "output_type": "execute_result",
          "data": {
            "text/plain": [
              "array([0.07, 0.07, 0.1 , 0.13, 0.16, 0.13, 0.1 , 0.1 , 0.07, 0.07])"
            ]
          },
          "metadata": {
            "tags": []
          },
          "execution_count": 3
        }
      ]
    },
    {
      "cell_type": "code",
      "metadata": {
        "id": "_ruaOiR8p2x0",
        "colab_type": "code",
        "colab": {}
      },
      "source": [
        "# The plate notation consists of [(pie)] --[-> (t) --> (x) <-]-- [ (C_{k}) ]\n",
        "# TODO: Draw the plate notation here"
      ],
      "execution_count": 0,
      "outputs": []
    },
    {
      "cell_type": "markdown",
      "metadata": {
        "id": "iF_mIUEcE-Xx",
        "colab_type": "text"
      },
      "source": [
        "**EM algorithm for mixture of categorical distributions**\n",
        "\n",
        "---\n",
        "\n",
        "\n",
        "$N$ data points in data.\n",
        "\n",
        "$C_k$ = mixture components (multinomial (categorical) distributions).\n",
        "\n",
        "$t$ = latent variable is the mixture number.\n",
        "\n",
        "EM Algo for discrete distribution have following parameters:\n",
        "\n",
        "$\\theta_{kc}$ = probability of each of the $C$ categories for mixture component $k$\n",
        "\n",
        "$\\pi_{k}$  = mixture proportions\n",
        "\n",
        "$q(t_i)$ = variational distribution for each data point $i$\n",
        "\n",
        "For categorical distribution $q(t_i)$ can be stored in $K*C$ matrix and would not require computing $p(x_i|t_i, \\theta, \\pi)$ for each data point. In case of mixture of continous distrbution we do not store $q(t_i)$ rather compute it for each data point. We compute $q(t)$ for each $c$ and store them. Here we define $N_c$ as number of data points with $x=c$."
      ]
    },
    {
      "cell_type": "code",
      "metadata": {
        "id": "H4hmOuPcp2x-",
        "colab_type": "code",
        "colab": {}
      },
      "source": [
        "# Init operations\n",
        "# categorical distribution parameters\n",
        "thetas = np.array([np.abs(np.random.randn()) for _ in range(K*C)]).reshape((K, C))\n",
        "thetas = thetas / np.sum(thetas, axis=1).reshape((K, 1))\n",
        "thetas = thetas[:, 0:C-1]\n",
        "# mixing proportions\n",
        "pies = np.array([np.abs(np.random.randn()) for _ in range(K)])\n",
        "pies = pies / np.sum(pies)\n",
        "pies = pies[0:K-1]"
      ],
      "execution_count": 0,
      "outputs": []
    },
    {
      "cell_type": "code",
      "metadata": {
        "id": "ZGiXeWCs6CgU",
        "colab_type": "code",
        "colab": {
          "base_uri": "https://localhost:8080/",
          "height": 90
        },
        "outputId": "e57217c9-5065-469b-f505-d2d07f52ca19"
      },
      "source": [
        "thetas"
      ],
      "execution_count": 6,
      "outputs": [
        {
          "output_type": "execute_result",
          "data": {
            "text/plain": [
              "array([[0.09452016, 0.04414052, 0.11654581, 0.13735718, 0.10925236,\n",
              "        0.11169507, 0.03510657, 0.14223729, 0.14198639],\n",
              "       [0.11717396, 0.02651716, 0.04842748, 0.00178599, 0.16797863,\n",
              "        0.11603825, 0.09820173, 0.05449376, 0.131717  ]])"
            ]
          },
          "metadata": {
            "tags": []
          },
          "execution_count": 6
        }
      ]
    },
    {
      "cell_type": "code",
      "metadata": {
        "id": "74an-oJr7W3Y",
        "colab_type": "code",
        "colab": {
          "base_uri": "https://localhost:8080/",
          "height": 35
        },
        "outputId": "b4f54812-4107-4e7d-b133-0a886ecf53a1"
      },
      "source": [
        "pies"
      ],
      "execution_count": 7,
      "outputs": [
        {
          "output_type": "execute_result",
          "data": {
            "text/plain": [
              "array([0.71160887])"
            ]
          },
          "metadata": {
            "tags": []
          },
          "execution_count": 7
        }
      ]
    },
    {
      "cell_type": "code",
      "metadata": {
        "id": "p_SrK3ra2fJh",
        "colab_type": "code",
        "colab": {}
      },
      "source": [
        "# E - Step\n",
        "# q(t_i) = p(t_i|x_i, \\theta)\n",
        "# A K*C array will help to store q(t_i) efficiently\n",
        "def e_step():\n",
        "  q_t = np.zeros((K, C))\n",
        "  for k in range(K):\n",
        "      for c in range(C):\n",
        "          if c == C-1:\n",
        "              theta = 1-np.sum(thetas[k,:])\n",
        "          else:\n",
        "              theta = thetas[k, c]\n",
        "        \n",
        "          if k == K-1:\n",
        "              pie = 1 - np.sum(pies)\n",
        "          else:\n",
        "              pie = pies[k]\n",
        "\n",
        "          q_t[k, c] = theta*pie\n",
        "\n",
        "  q_t = q_t/np.sum(q_t, axis=0)\n",
        "  return q_t"
      ],
      "execution_count": 0,
      "outputs": []
    },
    {
      "cell_type": "code",
      "metadata": {
        "id": "oMkdzawbp2yG",
        "colab_type": "code",
        "colab": {}
      },
      "source": [
        "# M-step\n",
        "# Update thetas\n",
        "def m_step_thetas(q_t):\n",
        "  N = np.unique(X1)\n",
        "  for k in range(K-1):\n",
        "    A = np.zeros((C-1, C-1))\n",
        "    b = np.zeros((C-1, 1))\n",
        "    for c in range(C-1):\n",
        "      # Prepare one row of A in each iteration\n",
        "      coeff1, coeff2 = N[c]*q_t[k, c], N[C-1]*q_t[k, C-1]\n",
        "      A[c, :] = np.repeat(np.array([coeff1]), C-1)\n",
        "      A[c, k] = coeff1 + coeff2\n",
        "      b[c] = coeff1\n",
        "    # Solve system of linear equations and update thetas\n",
        "    thetas[k, :] = np.squeeze(np.linalg.solve(A, b))"
      ],
      "execution_count": 0,
      "outputs": []
    },
    {
      "cell_type": "code",
      "metadata": {
        "id": "YW1C9osyvTo5",
        "colab_type": "code",
        "colab": {}
      },
      "source": [
        "# M-step\n",
        "# Update pies\n",
        "def m_step_pies(q_t):\n",
        "  N = np.unique(X1)\n",
        "  A = np.zeros((K-1, K-1))\n",
        "  b = np.zeros((K-1, 1))\n",
        "  for k in range(K-1):\n",
        "    coeff1 = np.sum(np.array([N[c]*q_t[k, c] for c in range(C)]))\n",
        "    coeff2 = np.sum(np.array([N[c]*q_t[K-1, c] for c in range(C)]))\n",
        "    A[k, :] = np.repeat(np.array([coeff1]), K-1)\n",
        "    A[k, k] = coeff1 + coeff2\n",
        "    b[k] = coeff1\n",
        "  pies = np.squeeze(np.linalg.solve(A, b), axis=0)"
      ],
      "execution_count": 0,
      "outputs": []
    },
    {
      "cell_type": "code",
      "metadata": {
        "id": "8AzAo9kT2KOD",
        "colab_type": "code",
        "colab": {}
      },
      "source": [
        "def em_run(n_iter=100):\n",
        "  for i in range(n_iter):\n",
        "    print(\"Iter \", i)\n",
        "    q_t = e_step()\n",
        "    print(\"E-step\", q_t)\n",
        "    m_step_thetas(q_t)\n",
        "    m_step_pies(q_t)"
      ],
      "execution_count": 0,
      "outputs": []
    },
    {
      "cell_type": "code",
      "metadata": {
        "id": "7Lks5zo32pZc",
        "colab_type": "code",
        "colab": {
          "base_uri": "https://localhost:8080/",
          "height": 414
        },
        "outputId": "cf9b2a99-97f1-49c7-9634-51b378598a11"
      },
      "source": [
        "em_run()"
      ],
      "execution_count": 12,
      "outputs": [
        {
          "output_type": "stream",
          "text": [
            "Iter  0\n",
            "E-step [[0.66560294 0.80420668 0.85587308 0.99475814 0.61610172 0.70371749\n",
            "  0.46868485 0.86560218 0.72676804 0.41081483]\n",
            " [0.33439706 0.19579332 0.14412692 0.00524186 0.38389828 0.29628251\n",
            "  0.53131515 0.13439782 0.27323196 0.58918517]]\n"
          ],
          "name": "stdout"
        },
        {
          "output_type": "error",
          "ename": "LinAlgError",
          "evalue": "ignored",
          "traceback": [
            "\u001b[0;31m---------------------------------------------------------------------------\u001b[0m",
            "\u001b[0;31mLinAlgError\u001b[0m                               Traceback (most recent call last)",
            "\u001b[0;32m<ipython-input-12-be60f8c7387b>\u001b[0m in \u001b[0;36m<module>\u001b[0;34m()\u001b[0m\n\u001b[0;32m----> 1\u001b[0;31m \u001b[0mem_run\u001b[0m\u001b[0;34m(\u001b[0m\u001b[0;34m)\u001b[0m\u001b[0;34m\u001b[0m\u001b[0;34m\u001b[0m\u001b[0m\n\u001b[0m",
            "\u001b[0;32m<ipython-input-11-fd258ad5263f>\u001b[0m in \u001b[0;36mem_run\u001b[0;34m(n_iter)\u001b[0m\n\u001b[1;32m      4\u001b[0m     \u001b[0mq_t\u001b[0m \u001b[0;34m=\u001b[0m \u001b[0me_step\u001b[0m\u001b[0;34m(\u001b[0m\u001b[0;34m)\u001b[0m\u001b[0;34m\u001b[0m\u001b[0;34m\u001b[0m\u001b[0m\n\u001b[1;32m      5\u001b[0m     \u001b[0mprint\u001b[0m\u001b[0;34m(\u001b[0m\u001b[0;34m\"E-step\"\u001b[0m\u001b[0;34m,\u001b[0m \u001b[0mq_t\u001b[0m\u001b[0;34m)\u001b[0m\u001b[0;34m\u001b[0m\u001b[0;34m\u001b[0m\u001b[0m\n\u001b[0;32m----> 6\u001b[0;31m     \u001b[0mm_step_thetas\u001b[0m\u001b[0;34m(\u001b[0m\u001b[0mq_t\u001b[0m\u001b[0;34m)\u001b[0m\u001b[0;34m\u001b[0m\u001b[0;34m\u001b[0m\u001b[0m\n\u001b[0m\u001b[1;32m      7\u001b[0m     \u001b[0mm_step_pies\u001b[0m\u001b[0;34m(\u001b[0m\u001b[0mq_t\u001b[0m\u001b[0;34m)\u001b[0m\u001b[0;34m\u001b[0m\u001b[0;34m\u001b[0m\u001b[0m\n",
            "\u001b[0;32m<ipython-input-9-cf79093beb4f>\u001b[0m in \u001b[0;36mm_step_thetas\u001b[0;34m(q_t)\u001b[0m\n\u001b[1;32m     11\u001b[0m       \u001b[0mb\u001b[0m\u001b[0;34m[\u001b[0m\u001b[0mc\u001b[0m\u001b[0;34m]\u001b[0m \u001b[0;34m=\u001b[0m \u001b[0mcoeff1\u001b[0m\u001b[0;34m\u001b[0m\u001b[0;34m\u001b[0m\u001b[0m\n\u001b[1;32m     12\u001b[0m     \u001b[0;31m# Solve system of linear equations and update thetas\u001b[0m\u001b[0;34m\u001b[0m\u001b[0;34m\u001b[0m\u001b[0;34m\u001b[0m\u001b[0m\n\u001b[0;32m---> 13\u001b[0;31m     \u001b[0mthetas\u001b[0m\u001b[0;34m[\u001b[0m\u001b[0mk\u001b[0m\u001b[0;34m,\u001b[0m \u001b[0;34m:\u001b[0m\u001b[0;34m]\u001b[0m \u001b[0;34m=\u001b[0m \u001b[0mnp\u001b[0m\u001b[0;34m.\u001b[0m\u001b[0msqueeze\u001b[0m\u001b[0;34m(\u001b[0m\u001b[0mnp\u001b[0m\u001b[0;34m.\u001b[0m\u001b[0mlinalg\u001b[0m\u001b[0;34m.\u001b[0m\u001b[0msolve\u001b[0m\u001b[0;34m(\u001b[0m\u001b[0mA\u001b[0m\u001b[0;34m,\u001b[0m \u001b[0mb\u001b[0m\u001b[0;34m)\u001b[0m\u001b[0;34m)\u001b[0m\u001b[0;34m\u001b[0m\u001b[0;34m\u001b[0m\u001b[0m\n\u001b[0m",
            "\u001b[0;32m/usr/local/lib/python3.6/dist-packages/numpy/linalg/linalg.py\u001b[0m in \u001b[0;36msolve\u001b[0;34m(a, b)\u001b[0m\n\u001b[1;32m    401\u001b[0m     \u001b[0msignature\u001b[0m \u001b[0;34m=\u001b[0m \u001b[0;34m'DD->D'\u001b[0m \u001b[0;32mif\u001b[0m \u001b[0misComplexType\u001b[0m\u001b[0;34m(\u001b[0m\u001b[0mt\u001b[0m\u001b[0;34m)\u001b[0m \u001b[0;32melse\u001b[0m \u001b[0;34m'dd->d'\u001b[0m\u001b[0;34m\u001b[0m\u001b[0;34m\u001b[0m\u001b[0m\n\u001b[1;32m    402\u001b[0m     \u001b[0mextobj\u001b[0m \u001b[0;34m=\u001b[0m \u001b[0mget_linalg_error_extobj\u001b[0m\u001b[0;34m(\u001b[0m\u001b[0m_raise_linalgerror_singular\u001b[0m\u001b[0;34m)\u001b[0m\u001b[0;34m\u001b[0m\u001b[0;34m\u001b[0m\u001b[0m\n\u001b[0;32m--> 403\u001b[0;31m     \u001b[0mr\u001b[0m \u001b[0;34m=\u001b[0m \u001b[0mgufunc\u001b[0m\u001b[0;34m(\u001b[0m\u001b[0ma\u001b[0m\u001b[0;34m,\u001b[0m \u001b[0mb\u001b[0m\u001b[0;34m,\u001b[0m \u001b[0msignature\u001b[0m\u001b[0;34m=\u001b[0m\u001b[0msignature\u001b[0m\u001b[0;34m,\u001b[0m \u001b[0mextobj\u001b[0m\u001b[0;34m=\u001b[0m\u001b[0mextobj\u001b[0m\u001b[0;34m)\u001b[0m\u001b[0;34m\u001b[0m\u001b[0;34m\u001b[0m\u001b[0m\n\u001b[0m\u001b[1;32m    404\u001b[0m \u001b[0;34m\u001b[0m\u001b[0m\n\u001b[1;32m    405\u001b[0m     \u001b[0;32mreturn\u001b[0m \u001b[0mwrap\u001b[0m\u001b[0;34m(\u001b[0m\u001b[0mr\u001b[0m\u001b[0;34m.\u001b[0m\u001b[0mastype\u001b[0m\u001b[0;34m(\u001b[0m\u001b[0mresult_t\u001b[0m\u001b[0;34m,\u001b[0m \u001b[0mcopy\u001b[0m\u001b[0;34m=\u001b[0m\u001b[0;32mFalse\u001b[0m\u001b[0;34m)\u001b[0m\u001b[0;34m)\u001b[0m\u001b[0;34m\u001b[0m\u001b[0;34m\u001b[0m\u001b[0m\n",
            "\u001b[0;32m/usr/local/lib/python3.6/dist-packages/numpy/linalg/linalg.py\u001b[0m in \u001b[0;36m_raise_linalgerror_singular\u001b[0;34m(err, flag)\u001b[0m\n\u001b[1;32m     95\u001b[0m \u001b[0;34m\u001b[0m\u001b[0m\n\u001b[1;32m     96\u001b[0m \u001b[0;32mdef\u001b[0m \u001b[0m_raise_linalgerror_singular\u001b[0m\u001b[0;34m(\u001b[0m\u001b[0merr\u001b[0m\u001b[0;34m,\u001b[0m \u001b[0mflag\u001b[0m\u001b[0;34m)\u001b[0m\u001b[0;34m:\u001b[0m\u001b[0;34m\u001b[0m\u001b[0;34m\u001b[0m\u001b[0m\n\u001b[0;32m---> 97\u001b[0;31m     \u001b[0;32mraise\u001b[0m \u001b[0mLinAlgError\u001b[0m\u001b[0;34m(\u001b[0m\u001b[0;34m\"Singular matrix\"\u001b[0m\u001b[0;34m)\u001b[0m\u001b[0;34m\u001b[0m\u001b[0;34m\u001b[0m\u001b[0m\n\u001b[0m\u001b[1;32m     98\u001b[0m \u001b[0;34m\u001b[0m\u001b[0m\n\u001b[1;32m     99\u001b[0m \u001b[0;32mdef\u001b[0m \u001b[0m_raise_linalgerror_nonposdef\u001b[0m\u001b[0;34m(\u001b[0m\u001b[0merr\u001b[0m\u001b[0;34m,\u001b[0m \u001b[0mflag\u001b[0m\u001b[0;34m)\u001b[0m\u001b[0;34m:\u001b[0m\u001b[0;34m\u001b[0m\u001b[0;34m\u001b[0m\u001b[0m\n",
            "\u001b[0;31mLinAlgError\u001b[0m: Singular matrix"
          ]
        }
      ]
    },
    {
      "cell_type": "code",
      "metadata": {
        "id": "JAn8h8n72wnX",
        "colab_type": "code",
        "colab": {}
      },
      "source": [
        "pies"
      ],
      "execution_count": 0,
      "outputs": []
    },
    {
      "cell_type": "code",
      "metadata": {
        "id": "YYji7d5L8geB",
        "colab_type": "code",
        "colab": {}
      },
      "source": [
        "thetas"
      ],
      "execution_count": 0,
      "outputs": []
    },
    {
      "cell_type": "code",
      "metadata": {
        "id": "RjoEy_Kjp2yN",
        "colab_type": "code",
        "colab": {}
      },
      "source": [
        "# Lower bound should increase at each iteration\n",
        "# Otherwise their is implementation glitch"
      ],
      "execution_count": 0,
      "outputs": []
    }
  ]
}