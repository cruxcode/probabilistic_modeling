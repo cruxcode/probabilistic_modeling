{
  "nbformat": 4,
  "nbformat_minor": 0,
  "metadata": {
    "colab": {
      "name": "lda_variational_em.ipynb",
      "version": "0.3.2",
      "provenance": [],
      "collapsed_sections": [],
      "include_colab_link": true
    },
    "language_info": {
      "codemirror_mode": {
        "name": "ipython",
        "version": 3
      },
      "file_extension": ".py",
      "mimetype": "text/x-python",
      "name": "python",
      "nbconvert_exporter": "python",
      "pygments_lexer": "ipython3",
      "version": "3.7.3"
    },
    "kernelspec": {
      "display_name": "Python 3",
      "language": "python",
      "name": "python3"
    }
  },
  "cells": [
    {
      "cell_type": "markdown",
      "metadata": {
        "id": "view-in-github",
        "colab_type": "text"
      },
      "source": [
        "<a href=\"https://colab.research.google.com/github/cruxcode/probabilistic_modeling/blob/master/lda_variational_em.ipynb\" target=\"_parent\"><img src=\"https://colab.research.google.com/assets/colab-badge.svg\" alt=\"Open In Colab\"/></a>"
      ]
    },
    {
      "cell_type": "code",
      "metadata": {
        "id": "zSqPQe1lu_ow",
        "colab_type": "code",
        "colab": {}
      },
      "source": [
        "import numpy as np\n",
        "from scipy.special import psi"
      ],
      "execution_count": 0,
      "outputs": []
    },
    {
      "cell_type": "code",
      "metadata": {
        "id": "rGq9bWq0u_o1",
        "colab_type": "code",
        "colab": {}
      },
      "source": [
        "from sklearn.decomposition import PCA"
      ],
      "execution_count": 0,
      "outputs": []
    },
    {
      "cell_type": "code",
      "metadata": {
        "id": "UxQqYQ6au_o4",
        "colab_type": "code",
        "colab": {}
      },
      "source": [
        "import matplotlib.pyplot as plt"
      ],
      "execution_count": 0,
      "outputs": []
    },
    {
      "cell_type": "markdown",
      "metadata": {
        "id": "uBvcSisPu_o7",
        "colab_type": "text"
      },
      "source": [
        "![alt text](https://drive.google.com/uc?id=1BatirgM6DzscCOAL8_CAYUZ8hCAjV54d)\n",
        "\n",
        "Plate notation for LDA\n",
        "\n",
        "![alt text](https://drive.google.com/uc?id=1wjvfzN9KVAxLscqd8DHxKCyoVhuw3khG)\n",
        "\n",
        "Plate notation for Variational Inference\n",
        "\n",
        "\n",
        "<b>Variational EM</b> is composed of two steps:\n",
        "<ul>\n",
        "    <li>Variaitonal Inference or E-Step - Infer the posterior distribution of all latent variables.</li>\n",
        "    <li>M - Step - Estimate the parameters by maximizing log likelihood of data given parameters.</li>\n",
        "</ul>\n",
        "\n",
        "<b>Variational Inference for LDA</b><br>\n",
        "The family of distributions used for approximation is mean field approximation over cateforical distribution. The varitonal distribution is fully factorized over all documents. $\\gamma$ and $\\pi$ are the free variaitonal parameters for latent variable $\\theta$ and $z$ respectively. In this step $\\gamma$ and $\\pi$ are computed using parameter $\\phi$.\n",
        "\n",
        "<b>EM Algorithm for LDA</b><br>\n",
        "The variational parameters computed in variaitonal inference step/ E-step are used as posterior distribution over latent variabales to udpate paramters $\\phi$."
      ]
    },
    {
      "cell_type": "code",
      "metadata": {
        "id": "q2QWKnKZu_o8",
        "colab_type": "code",
        "colab": {}
      },
      "source": [
        "class LDA:\n",
        "    \"\"\"\n",
        "        LDA implements Variational EM for LDA\n",
        "    \"\"\"\n",
        "    def __init__(self, K, V, alpha):\n",
        "        \"\"\"\n",
        "            Args:\n",
        "                K = Number of topics/components\n",
        "                V = Vocabulary size\n",
        "                alpha = int/numpy array\n",
        "        \"\"\"\n",
        "        self.K, self.V = K, V\n",
        "        # parameter phi\n",
        "        self.phi = np.random.random((K, V))\n",
        "        if type(alpha) == int:\n",
        "            self.alpha = np.array([alpha]*K)\n",
        "        self.alpha = alpha\n",
        "        self.data = None\n",
        "        \n",
        "    def fit(self, data, n_iter=25):\n",
        "        \"\"\"\n",
        "        Fits the LDA to data.\n",
        "            Args:\n",
        "                data = a 2D numpy matrix,\n",
        "                with rows containing triplets\n",
        "                doc_id, word_id, count\n",
        "                n_iter = number of iterations\n",
        "        \"\"\"\n",
        "        # Runs LDA for n_iter times over each document\n",
        "        # in corpus of M\n",
        "        self.data = data\n",
        "        for i in range(n_iter):\n",
        "            print(\"Iteration {0}\".format(i+1))\n",
        "            for _, d in enumerate(np.unique(self.data[:, 0])):\n",
        "                w, c, pie, gamma = self.variaitonal_inference(d)\n",
        "                self.phi = self.phi + self.m_step(w, c, pie)\n",
        "            self.phi = self.phi / np.sum(self.phi, axis=1).reshape(self.K, 1)\n",
        "        \n",
        "        assert self.phi.shape == (self.K, self.V), ('phi shape mismatch')\n",
        "        \n",
        "        return self.phi\n",
        "    \n",
        "    def variaitonal_inference(self, d, burn_in=25):\n",
        "        \"\"\"\n",
        "        Variaitonal Inference or the E-Step\n",
        "            Args:\n",
        "                d = document id\n",
        "                burn_in = burn in period\n",
        "            Returns:\n",
        "                pie = \n",
        "        \"\"\"\n",
        "        # free variational parameters\n",
        "        w = self.data[self.data[:, 0]==d, 1]\n",
        "        c = self.data[self.data[:, 0]==d, 2]\n",
        "        pie = np.random.random( (np.shape(w)[0], self.K) )\n",
        "        pie = pie / np.sum(pie, axis=0)\n",
        "        gamma = self.alpha + np.sum(pie, axis=0)\n",
        "        \n",
        "        # TODO: put a check for convergence instead of hard coded burn_in\n",
        "        \n",
        "        for _ in range(burn_in):\n",
        "            pie = (self.phi[:, w]).T*np.exp(psi(gamma)-psi(np.sum(gamma)))\n",
        "            pie = pie / np.sum(pie, axis=0)\n",
        "            gamma = self.alpha + np.sum(pie*c.reshape(c.shape[0], 1), axis=0)\n",
        "            \n",
        "        assert pie.shape == (np.shape(w)[0], self.K), ('pie shape mismatch')\n",
        "        assert gamma.shape == (self.K,), ('gamma shape mismatch')\n",
        "        \n",
        "        return w, c, pie, gamma\n",
        "    \n",
        "    def m_step(self, w, c, pie):\n",
        "        phi_j = np.zeros((self.K, self.V))\n",
        "        phi_j[:, w] = (pie*c.reshape(c.shape[0], 1)).T\n",
        "        \n",
        "        assert phi_j.shape == (self.K, self.V), ('phi shape mismatch')\n",
        "        \n",
        "        return phi_j"
      ],
      "execution_count": 0,
      "outputs": []
    },
    {
      "cell_type": "code",
      "metadata": {
        "id": "Pm28d-bpu_o_",
        "colab_type": "code",
        "colab": {}
      },
      "source": [
        "A = np.load('mat_A.npy')\n",
        "B = np.load('mat_B.npy')"
      ],
      "execution_count": 0,
      "outputs": []
    },
    {
      "cell_type": "code",
      "metadata": {
        "id": "_JIIA7pXu_pC",
        "colab_type": "code",
        "colab": {}
      },
      "source": [
        "V = np.max(np.hstack((A[:,1],B[:,1]))) + 1   "
      ],
      "execution_count": 0,
      "outputs": []
    },
    {
      "cell_type": "code",
      "metadata": {
        "id": "ZTi4wOQyu_pF",
        "colab_type": "code",
        "colab": {}
      },
      "source": [
        "mdl = LDA(20, V, 10)"
      ],
      "execution_count": 0,
      "outputs": []
    },
    {
      "cell_type": "code",
      "metadata": {
        "scrolled": false,
        "id": "5qd1Fbe8u_pK",
        "colab_type": "code",
        "outputId": "9ce42d03-b396-4e00-a680-f52f3eea2c7a",
        "colab": {}
      },
      "source": [
        "mdl.fit(A)"
      ],
      "execution_count": 0,
      "outputs": [
        {
          "output_type": "stream",
          "text": [
            "Iteration 1\n",
            "Iteration 2\n",
            "Iteration 3\n",
            "Iteration 4\n",
            "Iteration 5\n",
            "Iteration 6\n",
            "Iteration 7\n",
            "Iteration 8\n",
            "Iteration 9\n",
            "Iteration 10\n",
            "Iteration 11\n",
            "Iteration 12\n",
            "Iteration 13\n",
            "Iteration 14\n",
            "Iteration 15\n",
            "Iteration 16\n",
            "Iteration 17\n",
            "Iteration 18\n",
            "Iteration 19\n",
            "Iteration 20\n",
            "Iteration 21\n",
            "Iteration 22\n",
            "Iteration 23\n",
            "Iteration 24\n",
            "Iteration 25\n"
          ],
          "name": "stdout"
        },
        {
          "output_type": "execute_result",
          "data": {
            "text/plain": [
              "array([[1.80128743e-93, 1.04954979e-84, 3.60398134e-93, ...,\n",
              "        4.16271302e-93, 2.61519196e-89, 2.20246002e-94],\n",
              "       [7.99651907e-94, 8.67264780e-85, 9.28807112e-94, ...,\n",
              "        9.79684052e-94, 7.37594192e-89, 2.10256252e-93],\n",
              "       [1.07690943e-93, 4.01235889e-85, 1.47373328e-93, ...,\n",
              "        2.76692694e-93, 5.49011512e-89, 9.93713604e-94],\n",
              "       ...,\n",
              "       [3.66341768e-94, 1.21708201e-84, 1.77892750e-93, ...,\n",
              "        7.78341161e-94, 1.70636336e-88, 2.89547561e-93],\n",
              "       [1.41961338e-93, 1.38813990e-84, 3.94631873e-93, ...,\n",
              "        6.08917773e-94, 2.73179474e-89, 7.68019463e-94],\n",
              "       [1.25774628e-93, 6.29696574e-85, 5.01836479e-93, ...,\n",
              "        1.35808730e-93, 8.94996889e-89, 2.93675856e-94]])"
            ]
          },
          "metadata": {
            "tags": []
          },
          "execution_count": 41
        }
      ]
    },
    {
      "cell_type": "code",
      "metadata": {
        "id": "6AKcugeau_pQ",
        "colab_type": "code",
        "outputId": "36417be5-2e42-4edc-e296-8c9931d876d5",
        "colab": {}
      },
      "source": [
        "mdl_pca = PCA(2)\n",
        "mdl_pca.fit(mdl.phi)"
      ],
      "execution_count": 0,
      "outputs": [
        {
          "output_type": "execute_result",
          "data": {
            "text/plain": [
              "PCA(copy=True, iterated_power='auto', n_components=2, random_state=None,\n",
              "  svd_solver='auto', tol=0.0, whiten=False)"
            ]
          },
          "metadata": {
            "tags": []
          },
          "execution_count": 42
        }
      ]
    },
    {
      "cell_type": "code",
      "metadata": {
        "id": "zYpa7dVDu_pU",
        "colab_type": "code",
        "colab": {}
      },
      "source": [
        "tr = mdl_pca.transform(mdl.phi)"
      ],
      "execution_count": 0,
      "outputs": []
    },
    {
      "cell_type": "code",
      "metadata": {
        "id": "qCbNTSqyu_pW",
        "colab_type": "code",
        "outputId": "571d761b-e94a-4cdf-a124-57aa025374cd",
        "colab": {}
      },
      "source": [
        "plt.scatter(tr[:, 0]*10e7, tr[:, 1]*10e7)"
      ],
      "execution_count": 0,
      "outputs": [
        {
          "output_type": "execute_result",
          "data": {
            "text/plain": [
              "<matplotlib.collections.PathCollection at 0x1a21b617b8>"
            ]
          },
          "metadata": {
            "tags": []
          },
          "execution_count": 44
        },
        {
          "output_type": "display_data",
          "data": {
            "image/png": "[encoded data removed]",
            "text/plain": [
              "<Figure size 432x288 with 1 Axes>"
            ]
          },
          "metadata": {
            "tags": [],
            "needs_background": "light"
          }
        }
      ]
    }
  ]
}